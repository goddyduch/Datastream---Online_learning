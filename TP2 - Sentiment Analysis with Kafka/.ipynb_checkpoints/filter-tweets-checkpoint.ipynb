{
 "cells": [
  {
   "cell_type": "code",
   "execution_count": null,
   "id": "2d0639a2-77d7-42cc-95dd-a31685ac6198",
   "metadata": {},
   "outputs": [],
   "source": [
    "import time\n",
    "from kafka import KafkaConsumer\n",
    "import json\n",
    "from kafka import KafkaProducer\n"
   ]
  },
  {
   "cell_type": "code",
   "execution_count": null,
   "id": "29566f65-099d-443c-920f-8274abafee47",
   "metadata": {},
   "outputs": [],
   "source": [
    "print(\"yes\")"
   ]
  },
  {
   "cell_type": "code",
   "execution_count": null,
   "id": "c430ad0b-d0c5-4d9b-b0e0-324e97d23a9e",
   "metadata": {},
   "outputs": [],
   "source": [
    "#affinne\n",
    "topic_name = \"raw-tweets\"\n",
    "topic_en = \"en-tweets\"\n",
    "topic_fr = \"fr-tweets\"\n",
    "\n",
    "consumer = KafkaConsumer(topic_name, bootstrap_servers=\"localhost:9092\",value_deserializer=lambda x: json.loads(x.decode('utf-8')))\n",
    "\n",
    "for msg in consumer:\n",
    "    msg = json.loads(msg.value)\n",
    "    print(msg)\n",
    "    if msg['lang']==\"en\" :\n",
    "        producer1 = KafkaProducer(bootstrap_servers=\"localhost:9092\",value_serializer=lambda v: json.dumps(v).encode('utf-8'))\n",
    "        message = json.dumps(msg,indent=3)\n",
    "        print(message)\n",
    "        producer1.send(topic_en, message)\n",
    "        print(\"en\")\n",
    "        \n",
    "    if msg['lang']== \"fr\" :\n",
    "        producer2 = KafkaProducer(bootstrap_servers=\"localhost:9092\",value_serializer=lambda v: json.dumps(v).encode('utf-8'))\n",
    "        message = json.dumps(msg,indent=3)\n",
    "        print(message)\n",
    "        producer2.send(topic_fr, message)\n",
    "        print(\"fr\")\n",
    "    \n"
   ]
  },
  {
   "cell_type": "code",
   "execution_count": null,
   "id": "c9513785-89ea-4951-a5fa-f9ec077d42c6",
   "metadata": {},
   "outputs": [],
   "source": []
  },
  {
   "cell_type": "code",
   "execution_count": null,
   "id": "565de953-c9af-486f-9041-ddb9b3804d84",
   "metadata": {},
   "outputs": [],
   "source": [
    "print(\"yes\")"
   ]
  },
  {
   "cell_type": "code",
   "execution_count": null,
   "id": "45a551d3-3307-4f4f-9ddb-4f2de6620dff",
   "metadata": {},
   "outputs": [],
   "source": []
  }
 ],
 "metadata": {
  "kernelspec": {
   "display_name": "Python 3 (ipykernel)",
   "language": "python",
   "name": "python3"
  },
  "language_info": {
   "codemirror_mode": {
    "name": "ipython",
    "version": 3
   },
   "file_extension": ".py",
   "mimetype": "text/x-python",
   "name": "python",
   "nbconvert_exporter": "python",
   "pygments_lexer": "ipython3",
   "version": "3.9.12"
  }
 },
 "nbformat": 4,
 "nbformat_minor": 5
}
