{
 "cells": [
  {
   "cell_type": "code",
   "execution_count": 7,
   "id": "3c91605e-cee7-4a65-afb2-8a26756c7c95",
   "metadata": {},
   "outputs": [],
   "source": [
    "import time\n",
    "from kafka import KafkaConsumer\n",
    "import json\n",
    "from kafka import KafkaProducer\n",
    "from afinn import Afinn\n",
    "from pattern.fr import sentiment"
   ]
  },
  {
   "cell_type": "code",
   "execution_count": null,
   "id": "70db3e4a-f82f-4f87-bdf7-753e66ba6380",
   "metadata": {
    "scrolled": true,
    "tags": []
   },
   "outputs": [],
   "source": [
    "topic_en = \"en-tweets\"\n",
    "consumer1 = KafkaConsumer(topic_en, bootstrap_servers=\"localhost:9092\",value_deserializer=lambda x: json.loads(x.decode('utf-8')))\n",
    "topic_p = \"positive-tweets\"\n",
    "topic_n = \"negative-tweets\"\n",
    "for msg in consumer1:\n",
    "    msg = json.loads(msg.value)\n",
    "    df =  msg['text']\n",
    "    rlt = sentiment(df)\n",
    "    \n",
    "    rlt = rlt[0]\n",
    "    if float(rlt) >0 : \n",
    "        producer_p = KafkaProducer(bootstrap_servers=\"localhost:9092\",value_serializer=lambda v: json.dumps(v).encode('utf-8'))\n",
    "        sen = \"positive-tweets\"\n",
    "        test = {'tweet' : df , 'sentiment' : sen}\n",
    "        message = json.dumps(test, indent=2)\n",
    "        producer_p.send(topic_p, message)\n",
    "         \n",
    "    else :\n",
    "        producer_n = KafkaProducer(bootstrap_servers=\"localhost:9092\",value_serializer=lambda v: json.dumps(v).encode('utf-8'))\n",
    "        sen = \"negative-tweets\"\n",
    "        test = {'tweet' : df , 'sentiment' : sen}\n",
    "        message = json.dumps(test, indent=2)\n",
    "        producer_n.send(topic_n, message)\n",
    "    \n",
    "   "
   ]
  },
  {
   "cell_type": "code",
   "execution_count": null,
   "id": "c8f35242-8a35-49c1-80f9-102939dd2a85",
   "metadata": {
    "scrolled": true,
    "tags": []
   },
   "outputs": [],
   "source": [
    "topic_fr = \"fr-tweets\"\n",
    "topic_p = \"positive-tweets\"\n",
    "topic_n = \"negative-tweets\"\n",
    "consumer2 = KafkaConsumer(topic_fr, bootstrap_servers=\"localhost:9092\",value_deserializer=lambda x: json.loads(x.decode('utf-8')))\n",
    "for msg in consumer2:\n",
    "    msg = json.loads(msg.value)\n",
    "    df =  msg['text']\n",
    "    rlt = sentiment(df)\n",
    "    \n",
    "    rlt = rlt[0]\n",
    "    if float(rlt) >0 : \n",
    "        producer_p = KafkaProducer(bootstrap_servers=\"localhost:9092\",value_serializer=lambda v: json.dumps(v).encode('utf-8'))\n",
    "        sen = \"positive-tweets\"\n",
    "        test = {'tweet' : df , 'sentiment' : sen}\n",
    "        message = json.dumps(test, indent=2)\n",
    "        producer_p.send(topic_p, message)\n",
    "         \n",
    "    else :\n",
    "        producer_n = KafkaProducer(bootstrap_servers=\"localhost:9092\",value_serializer=lambda v: json.dumps(v).encode('utf-8'))\n",
    "        sen = \"negative-tweets\"\n",
    "        test = {'tweet' : df , 'sentiment' : sen}\n",
    "        message = json.dumps(test, indent=2)\n",
    "        producer_n.send(topic_n, message)"
   ]
  },
  {
   "cell_type": "code",
   "execution_count": null,
   "id": "7632f92e-16b4-4726-9b6f-07275bd7077a",
   "metadata": {},
   "outputs": [],
   "source": [
    "\"\"\"topic_fr = \"fr-tweets\"\n",
    "sen = \"neutre\"\n",
    "consumer2 = KafkaConsumer(topic_fr, bootstrap_servers=\"localhost:9092\",value_deserializer=lambda x: json.loads(x.decode('utf-8')))\n",
    "for msg in consumer2:\n",
    "    msg = json.loads(msg.value)\n",
    "    df =  msg['text']\n",
    "    rlt = sentiment(df)\n",
    "    \n",
    "    rlt = rlt[0]\n",
    "    if float(rlt) >0 : \n",
    "         sen = \"positive-tweets\"\n",
    "    else :\n",
    "        sen = \"negative-tweets\"\n",
    "    print(df,sen)\"\"\"\""
   ]
  },
  {
   "cell_type": "code",
   "execution_count": null,
   "id": "c2cf5c28-8591-4345-8115-08ff0376d522",
   "metadata": {},
   "outputs": [],
   "source": [
    "\n",
    "print(sentiment(\"hello,berke berk nulle\"))"
   ]
  },
  {
   "cell_type": "code",
   "execution_count": null,
   "id": "1fc1e5c7-a480-47ad-8918-90a266375fff",
   "metadata": {},
   "outputs": [],
   "source": []
  }
 ],
 "metadata": {
  "kernelspec": {
   "display_name": "Python 3 (ipykernel)",
   "language": "python",
   "name": "python3"
  },
  "language_info": {
   "codemirror_mode": {
    "name": "ipython",
    "version": 3
   },
   "file_extension": ".py",
   "mimetype": "text/x-python",
   "name": "python",
   "nbconvert_exporter": "python",
   "pygments_lexer": "ipython3",
   "version": "3.9.12"
  }
 },
 "nbformat": 4,
 "nbformat_minor": 5
}
